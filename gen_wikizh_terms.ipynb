{
 "cells": [
  {
   "cell_type": "code",
   "execution_count": 1,
   "metadata": {},
   "outputs": [],
   "source": [
    "from gensim.corpora import wikicorpus"
   ]
  },
  {
   "cell_type": "code",
   "execution_count": 2,
   "metadata": {},
   "outputs": [],
   "source": [
    "import bz2"
   ]
  },
  {
   "cell_type": "code",
   "execution_count": 3,
   "metadata": {},
   "outputs": [],
   "source": [
    "import opencc"
   ]
  },
  {
   "cell_type": "code",
   "execution_count": 4,
   "metadata": {},
   "outputs": [],
   "source": [
    "import re"
   ]
  },
  {
   "cell_type": "code",
   "execution_count": 5,
   "metadata": {},
   "outputs": [],
   "source": [
    "filter_namespaces=('0',)\n",
    "# download : https://dumps.wikimedia.org/zhwiki/latest/\n",
    "zhwiki_path = 'zhwiki-latest-pages-articles.xml.bz2'"
   ]
  },
  {
   "cell_type": "code",
   "execution_count": 6,
   "metadata": {},
   "outputs": [],
   "source": [
    "wiki_gen = wikicorpus.extract_pages(bz2.BZ2File(zhwiki_path), filter_namespaces)"
   ]
  },
  {
   "cell_type": "code",
   "execution_count": 7,
   "metadata": {},
   "outputs": [],
   "source": [
    "wikizh_terms =[]\n",
    "for title, _, __ in wiki_gen:\n",
    "    wikizh_terms.append(title)"
   ]
  },
  {
   "cell_type": "code",
   "execution_count": 8,
   "metadata": {},
   "outputs": [
    {
     "name": "stdout",
     "output_type": "stream",
     "text": [
      "3163614\n"
     ]
    }
   ],
   "source": [
    "print(len(wikizh_terms))"
   ]
  },
  {
   "cell_type": "code",
   "execution_count": 9,
   "metadata": {},
   "outputs": [
    {
     "name": "stdout",
     "output_type": "stream",
     "text": [
      "3111660\n"
     ]
    }
   ],
   "source": [
    "wikizh_terms = [t for t in wikizh_terms if 'Wikipedia' not in t]\n",
    "wikizh_terms = [t for t in wikizh_terms if 'Help' not in t]\n",
    "\n",
    "print(len(wikizh_terms))"
   ]
  },
  {
   "cell_type": "code",
   "execution_count": 10,
   "metadata": {},
   "outputs": [
    {
     "name": "stdout",
     "output_type": "stream",
     "text": [
      "424878\n",
      "['数学', '哲学', '文學', '历史', '民族', '戏剧', '电影', '音乐', '经济学', '政治学', '法学', '社会学', '军事学', '信息学', '物理学', '天文學', '力学', '化學', '地理学', '地质学', '气象学', '生物学', '心理学', '中医学', '海洋学', '水文学', '测绘学', '农业', '计算', '孫中山', '植物学', '生命', '亳州市', '上海市', '史家', '高德纳', '中國', '宗教', '人物', '教育', '辽宁省', '旅游', '鄧麗君', '游戏', '自然数', '数域', '数论', '千纪', 'TeX', '黑客', '福建省', '安徽省', '甘肃省', '广东省', '贵州省', '海南省', '河北省', '河南省', '湖北省', '江苏省', '江西省', '吉林省', '青海省', '陕西省', '山东省', '山西省', '四川省', '云南省', '浙江省', '北京市', '重庆市', '天津市', '亚洲', '美国', '人民币', '孔子', '深圳市', '王菲', '抚顺市', '逻辑', '孙文', '俄罗斯', '朱德', '陈相镇', '新西兰', '法国', '面积', 'Tux', '泰勒斯', '硬件', '張國榮', '柏拉图', '蒲松龄', '诗人', '西山居', '合肥市', '交通', '台湾', '網誌', '注音文']\n"
     ]
    }
   ],
   "source": [
    "wikizh_terms_short = [t for t in wikizh_terms if len(t)==2 or len(t)==3]\n",
    "print(len(wikizh_terms_short))\n",
    "print(wikizh_terms_short[:100])"
   ]
  },
  {
   "cell_type": "code",
   "execution_count": 11,
   "metadata": {},
   "outputs": [
    {
     "name": "stdout",
     "output_type": "stream",
     "text": [
      "416343\n"
     ]
    }
   ],
   "source": [
    "#濾掉有包含英數的詞\n",
    "wikizh_terms_short = [t for t in wikizh_terms_short if re.search('[a-zA-Z0-9]', t) is None]\n",
    "print(len(wikizh_terms_short))"
   ]
  },
  {
   "cell_type": "code",
   "execution_count": 12,
   "metadata": {},
   "outputs": [
    {
     "name": "stdout",
     "output_type": "stream",
     "text": [
      "['数学', '哲学', '文學', '历史', '民族', '戏剧', '电影', '音乐', '经济学', '政治学', '法学', '社会学', '军事学', '信息学', '物理学', '天文學', '力学', '化學', '地理学', '地质学', '气象学', '生物学', '心理学', '中医学', '海洋学', '水文学', '测绘学', '农业', '计算', '孫中山', '植物学', '生命', '亳州市', '上海市', '史家', '高德纳', '中國', '宗教', '人物', '教育', '辽宁省', '旅游', '鄧麗君', '游戏', '自然数', '数域', '数论', '千纪', '黑客', '福建省', '安徽省', '甘肃省', '广东省', '贵州省', '海南省', '河北省', '河南省', '湖北省', '江苏省', '江西省', '吉林省', '青海省', '陕西省', '山东省', '山西省', '四川省', '云南省', '浙江省', '北京市', '重庆市', '天津市', '亚洲', '美国', '人民币', '孔子', '深圳市', '王菲', '抚顺市', '逻辑', '孙文', '俄罗斯', '朱德', '陈相镇', '新西兰', '法国', '面积', '泰勒斯', '硬件', '張國榮', '柏拉图', '蒲松龄', '诗人', '西山居', '合肥市', '交通', '台湾', '網誌', '注音文', '唐朝', '臺灣']\n"
     ]
    }
   ],
   "source": [
    "print(wikizh_terms_short[:100])"
   ]
  },
  {
   "cell_type": "code",
   "execution_count": 28,
   "metadata": {},
   "outputs": [],
   "source": [
    "with open('wikizh_terms_short_zhs2zht.txt','w') as fout:\n",
    "    for t in wikizh_terms_short:\n",
    "        fout.write(opencc.convert(t, config='zhs2zht.ini'))\n",
    "        fout.write('\\n')"
   ]
  },
  {
   "cell_type": "code",
   "execution_count": 30,
   "metadata": {},
   "outputs": [],
   "source": [
    "with open('wikizh_terms_short.txt','w') as fout:\n",
    "    for t in wikizh_terms_short:\n",
    "        fout.write(t)\n",
    "        fout.write('\\n')"
   ]
  },
  {
   "cell_type": "code",
   "execution_count": null,
   "metadata": {},
   "outputs": [],
   "source": []
  }
 ],
 "metadata": {
  "kernelspec": {
   "display_name": "Python 3",
   "language": "python",
   "name": "python3"
  },
  "language_info": {
   "codemirror_mode": {
    "name": "ipython",
    "version": 3
   },
   "file_extension": ".py",
   "mimetype": "text/x-python",
   "name": "python",
   "nbconvert_exporter": "python",
   "pygments_lexer": "ipython3",
   "version": "3.6.2"
  }
 },
 "nbformat": 4,
 "nbformat_minor": 2
}
