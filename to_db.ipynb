{
 "cells": [
  {
   "cell_type": "code",
   "execution_count": 1,
   "metadata": {},
   "outputs": [],
   "source": [
    "import os\n",
    "import json\n",
    "from datetime import datetime,date\n",
    "import pickle\n",
    "import sqlite3\n"
   ]
  },
  {
   "cell_type": "code",
   "execution_count": 2,
   "metadata": {},
   "outputs": [
    {
     "name": "stdout",
     "output_type": "stream",
     "text": [
      "HI,OKOK\n"
     ]
    }
   ],
   "source": [
    "def strQ2B(s):\n",
    "    # 全形轉半形\n",
    "    new_string = \"\"\n",
    "    for char in s:\n",
    "        inside_code=ord(char) # 轉unicode\n",
    "        if inside_code == 12288:                              #全形空格直接轉換            \n",
    "            inside_code = 32 \n",
    "        elif (inside_code >= 65281 and inside_code <= 65374): # 轉換其他全形字\n",
    "            inside_code -= 65248\n",
    "        new_string += chr(inside_code)\n",
    "    return new_string\n",
    "print(strQ2B('ＨＩ，ＯＫＯＫ'))"
   ]
  },
  {
   "cell_type": "code",
   "execution_count": 3,
   "metadata": {},
   "outputs": [
    {
     "name": "stdout",
     "output_type": "stream",
     "text": [
      "4550\n",
      "{'length': '1時51分', 'director': '馬克威廉斯(Mark Williams)', 'm_id': 6827, 'c_title': '愛在回家時', 'review': [{'time': '2017-05-27', 'title': '《愛在回家時》回家吧，回到最初的美好。完整觀後推薦心得', 'content': '《愛在回家時》完整觀後推薦心得：http://0rz.tw/IUhKW (痞客邦)', 'rate': 5, 'author': '迪兒'}], 'date': '2017-05-26', 'img': 'https://s.yimg.com/vu/movies/fp/mpost/68/27/6827.jpg', 'e_title': 'A Family Man', 'cast': '《全面攻佔系列》傑瑞德巴特勒(Gerard Butler)、《捍衛任務》威廉達佛(Willem Dafoe)、《單身啪啪啪》愛莉森布里(Alison Brie)、《海邊的曼徹斯特》珂茜莫爾(Gretchen Mol)、《蜘蛛人2》艾爾菲摩里納(Alfred Molina)', 'category': '劇情、溫馨/家庭'}\n"
     ]
    }
   ],
   "source": [
    "reviews_dir = 'yahoo_movie_review/'\n",
    "directory = os.fsencode(reviews_dir)\n",
    "\n",
    "review_paths = []\n",
    "for file in os.listdir(directory):\n",
    "    filename = os.fsdecode(file)\n",
    "    if filename.endswith(\".json\"): \n",
    "        review_paths.append(os.path.join(reviews_dir, filename))\n",
    "\n",
    "movie_list = []\n",
    "for rpath in review_paths:\n",
    "    try:\n",
    "        with open(rpath, 'r') as fin:\n",
    "            movie = json.load(fin, encoding='utf-8')\n",
    "    except:\n",
    "        continue\n",
    "    movie_list.append(movie)\n",
    "print(len(movie_list))\n",
    "print(movie_list[0])"
   ]
  },
  {
   "cell_type": "code",
   "execution_count": 4,
   "metadata": {},
   "outputs": [],
   "source": [
    "with open('data/mid_to_cidofsent.bin','rb') as fin:\n",
    "    mid_to_cidofsent = pickle.load(fin)\n",
    "    \n",
    "with open('data/mid_to_tags.bin','rb') as fin:\n",
    "    mid_to_tags= pickle.load(fin)"
   ]
  },
  {
   "cell_type": "code",
   "execution_count": 5,
   "metadata": {},
   "outputs": [
    {
     "name": "stdout",
     "output_type": "stream",
     "text": [
      "[('知道 演', 0), ('個人 觀感', 1), ('看過 小說', 2), ('呎 吋', 3), ('票房 成績', 4), ('系列 電影', 5), ('交代 清楚', 6), ('希望 下', 7)]\n"
     ]
    }
   ],
   "source": [
    "print(mid_to_tags['2160'])"
   ]
  },
  {
   "cell_type": "code",
   "execution_count": 6,
   "metadata": {},
   "outputs": [],
   "source": [
    "conn = sqlite3.connect('db.sqlite3')\n",
    "cursor = conn.cursor()"
   ]
  },
  {
   "cell_type": "code",
   "execution_count": 7,
   "metadata": {},
   "outputs": [],
   "source": [
    "#insert movie\n",
    "\n",
    "sql_m = \"insert into reviews_movie (movie_id, title, title_original, director, cast, image, length, review_count, date  ) values (?, ?, ?, ?,?, ?, ?, ?, ?)\"\n",
    "\n",
    "for movie in movie_list:\n",
    "    try:\n",
    "        m_id = movie['m_id']\n",
    "#         mobj = (m_id, movie['c_title'],movie['e_title'], movie['director'], movie['cast'], movie['img'], movie['length'], len(movie['review']), datetime.strptime(movie['date'], '%Y-%m-%d'))\n",
    "        mobj = (m_id, movie['c_title'],movie['e_title'], movie['director'], movie['cast'], movie['img'], movie['length'], len(movie['review']), movie['date'])\n",
    "\n",
    "        cursor.execute(sql_m, mobj)\n",
    "    except Exception as e:\n",
    "        print(str(e))\n",
    "        print(movie['c_title'])\n",
    "\n"
   ]
  },
  {
   "cell_type": "code",
   "execution_count": 8,
   "metadata": {},
   "outputs": [
    {
     "name": "stdout",
     "output_type": "stream",
     "text": [
      "433\n"
     ]
    }
   ],
   "source": [
    "#insert review\n",
    "\n",
    "sql_r = \"insert into reviews_review (movie_id, rate, author, title, content, date ) values (?, ?,?, ?, ?, ?)\"\n",
    "\n",
    "i=0\n",
    "for movie in movie_list:\n",
    "    m_id = movie['m_id']\n",
    "    if len(movie['review']) > 149:\n",
    "        i+=1\n",
    "        for review in movie['review']:\n",
    "            robj = (m_id, review['rate'], review['author'], review['title'], review['content'], review['time'])\n",
    "    #       robj_list.append(roj)\n",
    "            cursor.execute(sql_r, robj)\n",
    "print(i)\n"
   ]
  },
  {
   "cell_type": "code",
   "execution_count": 9,
   "metadata": {},
   "outputs": [
    {
     "name": "stdout",
     "output_type": "stream",
     "text": [
      "4550\n"
     ]
    }
   ],
   "source": [
    "cursor.execute(\"select * from reviews_movie\")\n",
    "result = cursor.fetchall()\n",
    "print(len(result))\n"
   ]
  },
  {
   "cell_type": "code",
   "execution_count": 10,
   "metadata": {},
   "outputs": [],
   "source": [
    "#insert tag\n",
    "\n",
    "sql_t = \"insert into reviews_tag (movie_id, name, cluster_id ) values (?, ?,?)\"\n",
    "for movie_id, tags in mid_to_tags.items():\n",
    "    for tag in tags:\n",
    "        tobj = (movie_id, tag[0], int(tag[1]))\n",
    "        cursor.execute(sql_t, tobj)"
   ]
  },
  {
   "cell_type": "code",
   "execution_count": 11,
   "metadata": {},
   "outputs": [],
   "source": [
    "#insert sentence\n",
    "with open('data/mid_to_reviews_in_sents.json', 'r') as fin:\n",
    "    mid_to_reviews_in_sents = json.load(fin)\n",
    "\n",
    "mid_to_reviews_info = {}\n",
    "for movie in movie_list:\n",
    "    mid_to_reviews_info[movie['m_id']] =  movie['review']\n",
    "    \n",
    "sql_s = \"insert into reviews_sentence (review_id_id, content, cluster_id, review_position) values (?, ?, ?, ?)\"\n",
    "\n",
    "review_id = 1\n",
    "for mid in mid_to_reviews_in_sents:\n",
    "    review_sents_lst = mid_to_reviews_in_sents[mid]\n",
    "    review_cid_lst = mid_to_cidofsent[mid]\n",
    "    review_info_lst = mid_to_reviews_info[int(mid)]\n",
    "    for  review_sents, review_cids, review_info in zip(review_sents_lst, review_cid_lst, review_info_lst):\n",
    "        review_raw = strQ2B(review_info['content'])\n",
    "        for sent, cid in zip(review_sents, review_cids):\n",
    "            position = review_raw.find(sent)\n",
    "            if position == -1:\n",
    "                print(sent)\n",
    "                print(review_raw)\n",
    "            sobj = (review_id, sent, int(cid), position)\n",
    "            cursor.execute(sql_s, sobj)\n",
    "        review_id+=1\n",
    "        \n",
    "            "
   ]
  },
  {
   "cell_type": "code",
   "execution_count": 12,
   "metadata": {},
   "outputs": [],
   "source": [
    "conn.commit()"
   ]
  },
  {
   "cell_type": "code",
   "execution_count": 13,
   "metadata": {},
   "outputs": [],
   "source": [
    "conn.close()"
   ]
  },
  {
   "cell_type": "code",
   "execution_count": null,
   "metadata": {},
   "outputs": [],
   "source": []
  }
 ],
 "metadata": {
  "kernelspec": {
   "display_name": "Python 3",
   "language": "python",
   "name": "python3"
  },
  "language_info": {
   "codemirror_mode": {
    "name": "ipython",
    "version": 3
   },
   "file_extension": ".py",
   "mimetype": "text/x-python",
   "name": "python",
   "nbconvert_exporter": "python",
   "pygments_lexer": "ipython3",
   "version": "3.6.2"
  }
 },
 "nbformat": 4,
 "nbformat_minor": 2
}
