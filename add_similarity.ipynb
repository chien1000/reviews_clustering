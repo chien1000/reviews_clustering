{
 "cells": [
  {
   "cell_type": "code",
   "execution_count": 1,
   "metadata": {},
   "outputs": [],
   "source": [
    "import sqlite3\n",
    "conn = sqlite3.connect('db.sqlite3')\n",
    "cursor = conn.cursor()"
   ]
  },
  {
   "cell_type": "code",
   "execution_count": 2,
   "metadata": {},
   "outputs": [],
   "source": [
    "# sql_r = \"update reviews_sentence set jac_sim = (?) where id = (?)  \"\n",
    "sql_s = \"select s.id, s.content, t.name from  reviews_sentence as s INNER JOIN reviews_review AS r ON s.review_id_id = r.id INNER JOIN reviews_tag AS t ON r.movie_id = t.movie_id where s.cluster_id != -1 and s.cluster_id =  t.cluster_id\"\n",
    "cursor.execute(sql_s)\n",
    "result = cursor.fetchall()\n",
    "s_dict = {}\n",
    "for p in result:\n",
    "    s_id = p[0]\n",
    "    tag = p[2].replace(\" \", \"\")\n",
    "    jac_sim = len(set(p[1]).intersection(tag)) / len(set(p[1]).union(tag))\n",
    "    s_dict[s_id] = (p[1], tag, jac_sim)\n",
    "    cursor.execute('''update reviews_sentence set jac_sim = ? where id = ?  ''', (jac_sim, s_id))\n"
   ]
  },
  {
   "cell_type": "code",
   "execution_count": 3,
   "metadata": {},
   "outputs": [],
   "source": [
    "conn.commit()\n",
    "conn.close()"
   ]
  },
  {
   "cell_type": "code",
   "execution_count": null,
   "metadata": {
    "collapsed": true
   },
   "outputs": [],
   "source": []
  }
 ],
 "metadata": {
  "kernelspec": {
   "display_name": "Python 3",
   "language": "python",
   "name": "python3"
  },
  "language_info": {
   "codemirror_mode": {
    "name": "ipython",
    "version": 3
   },
   "file_extension": ".py",
   "mimetype": "text/x-python",
   "name": "python",
   "nbconvert_exporter": "python",
   "pygments_lexer": "ipython3",
   "version": "3.6.2"
  }
 },
 "nbformat": 4,
 "nbformat_minor": 2
}
